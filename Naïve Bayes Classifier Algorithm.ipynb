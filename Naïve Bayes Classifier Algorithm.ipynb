{
 "cells": [
  {
   "cell_type": "code",
   "execution_count": 17,
   "metadata": {},
   "outputs": [],
   "source": [
    "import numpy as np\n",
    "import pandas as pd"
   ]
  },
  {
   "cell_type": "code",
   "execution_count": 18,
   "metadata": {},
   "outputs": [],
   "source": [
    "df = pd.read_csv(r\"C:\\Users\\DEBABRATA\\Desktop\\Datasets\\My_play.csv\")"
   ]
  },
  {
   "cell_type": "code",
   "execution_count": 19,
   "metadata": {},
   "outputs": [
    {
     "data": {
      "text/html": [
       "<div>\n",
       "<style scoped>\n",
       "    .dataframe tbody tr th:only-of-type {\n",
       "        vertical-align: middle;\n",
       "    }\n",
       "\n",
       "    .dataframe tbody tr th {\n",
       "        vertical-align: top;\n",
       "    }\n",
       "\n",
       "    .dataframe thead th {\n",
       "        text-align: right;\n",
       "    }\n",
       "</style>\n",
       "<table border=\"1\" class=\"dataframe\">\n",
       "  <thead>\n",
       "    <tr style=\"text-align: right;\">\n",
       "      <th></th>\n",
       "      <th>Outlook</th>\n",
       "      <th>Temperature</th>\n",
       "      <th>Humidity</th>\n",
       "      <th>Windy</th>\n",
       "      <th>Play</th>\n",
       "    </tr>\n",
       "  </thead>\n",
       "  <tbody>\n",
       "    <tr>\n",
       "      <th>0</th>\n",
       "      <td>Sunny</td>\n",
       "      <td>Hot</td>\n",
       "      <td>High</td>\n",
       "      <td>f</td>\n",
       "      <td>No</td>\n",
       "    </tr>\n",
       "    <tr>\n",
       "      <th>1</th>\n",
       "      <td>Sunny</td>\n",
       "      <td>Hot</td>\n",
       "      <td>High</td>\n",
       "      <td>t</td>\n",
       "      <td>No</td>\n",
       "    </tr>\n",
       "    <tr>\n",
       "      <th>2</th>\n",
       "      <td>Overcast</td>\n",
       "      <td>Hot</td>\n",
       "      <td>High</td>\n",
       "      <td>f</td>\n",
       "      <td>Yes</td>\n",
       "    </tr>\n",
       "    <tr>\n",
       "      <th>3</th>\n",
       "      <td>Rainy</td>\n",
       "      <td>Mild</td>\n",
       "      <td>High</td>\n",
       "      <td>f</td>\n",
       "      <td>Yes</td>\n",
       "    </tr>\n",
       "    <tr>\n",
       "      <th>4</th>\n",
       "      <td>Rainy</td>\n",
       "      <td>Cool</td>\n",
       "      <td>Normal</td>\n",
       "      <td>f</td>\n",
       "      <td>Yes</td>\n",
       "    </tr>\n",
       "  </tbody>\n",
       "</table>\n",
       "</div>"
      ],
      "text/plain": [
       "    Outlook Temperature Humidity Windy Play\n",
       "0     Sunny         Hot     High     f   No\n",
       "1     Sunny         Hot     High     t   No\n",
       "2  Overcast         Hot     High     f  Yes\n",
       "3     Rainy        Mild     High     f  Yes\n",
       "4     Rainy        Cool   Normal     f  Yes"
      ]
     },
     "execution_count": 19,
     "metadata": {},
     "output_type": "execute_result"
    }
   ],
   "source": [
    "df.head()"
   ]
  },
  {
   "cell_type": "code",
   "execution_count": 20,
   "metadata": {},
   "outputs": [],
   "source": [
    "x=df.drop([df.columns[-1]], axis = 1)\n",
    "\n",
    "y= df[df.columns[-1]]"
   ]
  },
  {
   "cell_type": "code",
   "execution_count": 21,
   "metadata": {},
   "outputs": [
    {
     "name": "stdout",
     "output_type": "stream",
     "text": [
      "['Outlook', 'Temperature', 'Humidity', 'Windy']\n"
     ]
    }
   ],
   "source": [
    "features = list(x.columns)\n",
    "print(features)"
   ]
  },
  {
   "cell_type": "code",
   "execution_count": 22,
   "metadata": {
    "scrolled": true
   },
   "outputs": [],
   "source": [
    "x_train=x\n",
    "y_train=y\n",
    "train_size=x.shape[0]\n",
    "num_feats = x.shape[1]\n"
   ]
  },
  {
   "cell_type": "code",
   "execution_count": 23,
   "metadata": {},
   "outputs": [],
   "source": [
    "likelihoods={}\n",
    "class_priors={}\n",
    "pred_priors={}\n"
   ]
  },
  {
   "cell_type": "code",
   "execution_count": 24,
   "metadata": {},
   "outputs": [],
   "source": [
    "for feature in features:\n",
    "    likelihoods[feature]= {}\n",
    "    pred_priors[feature] = {}\n",
    "    \n",
    "    for feat_val in np.unique(x_train[feature]):\n",
    "        pred_priors[feature].update({feat_val:0})\n",
    "        \n",
    "        for outcome in np.unique(y_train):\n",
    "            likelihoods[feature].update({feat_val+'_'+outcome:0})\n",
    "            class_priors.update({outcome:0})"
   ]
  },
  {
   "cell_type": "code",
   "execution_count": 25,
   "metadata": {},
   "outputs": [
    {
     "name": "stdout",
     "output_type": "stream",
     "text": [
      "{'No': 0, 'Yes': 0}\n"
     ]
    }
   ],
   "source": [
    "print(class_priors)"
   ]
  },
  {
   "cell_type": "code",
   "execution_count": 26,
   "metadata": {},
   "outputs": [
    {
     "name": "stdout",
     "output_type": "stream",
     "text": [
      "{'Outlook': {'Overcast': 0, 'Rainy': 0, 'Sunny': 0}, 'Temperature': {'Cool': 0, 'Hot': 0, 'Mild': 0}, 'Humidity': {'High': 0, 'Normal': 0}, 'Windy': {'f': 0, 't': 0}}\n"
     ]
    }
   ],
   "source": [
    "print(pred_priors)"
   ]
  },
  {
   "cell_type": "code",
   "execution_count": 27,
   "metadata": {},
   "outputs": [
    {
     "name": "stdout",
     "output_type": "stream",
     "text": [
      "{'Outlook': {'Overcast_No': 0, 'Overcast_Yes': 0, 'Rainy_No': 0, 'Rainy_Yes': 0, 'Sunny_No': 0, 'Sunny_Yes': 0}, 'Temperature': {'Cool_No': 0, 'Cool_Yes': 0, 'Hot_No': 0, 'Hot_Yes': 0, 'Mild_No': 0, 'Mild_Yes': 0}, 'Humidity': {'High_No': 0, 'High_Yes': 0, 'Normal_No': 0, 'Normal_Yes': 0}, 'Windy': {'f_No': 0, 'f_Yes': 0, 't_No': 0, 't_Yes': 0}}\n"
     ]
    }
   ],
   "source": [
    "print(likelihoods)"
   ]
  },
  {
   "cell_type": "code",
   "execution_count": 28,
   "metadata": {},
   "outputs": [],
   "source": [
    "for outcome in np.unique(y_train):\n",
    "    outcome_count = sum(y_train == outcome)\n",
    "    class_priors[outcome] = outcome_count/train_size"
   ]
  },
  {
   "cell_type": "code",
   "execution_count": 29,
   "metadata": {},
   "outputs": [
    {
     "name": "stdout",
     "output_type": "stream",
     "text": [
      "{'No': 0.35714285714285715, 'Yes': 0.6428571428571429}\n"
     ]
    }
   ],
   "source": [
    "print(class_priors)"
   ]
  },
  {
   "cell_type": "code",
   "execution_count": 32,
   "metadata": {},
   "outputs": [
    {
     "name": "stdout",
     "output_type": "stream",
     "text": [
      "{'Sunny': 3, 'Rainy': 2}\n",
      "{'Overcast': 4, 'Rainy': 3, 'Sunny': 2}\n",
      "{'Mild': 2, 'Hot': 2, 'Cool': 1}\n",
      "{'Mild': 4, 'Cool': 3, 'Hot': 2}\n",
      "{'High': 4, 'Normal': 1}\n",
      "{'Normal': 6, 'High': 3}\n",
      "{'t': 3, 'f': 2}\n",
      "{'f': 6, 't': 3}\n"
     ]
    }
   ],
   "source": [
    "\n",
    "for feature in features:\n",
    "    for outcome in np.unique(y_train):\n",
    "        outcome_count= sum(y_train==outcome)\n",
    "        feat_likelihood = x_train[feature][y_train[y_train==outcome].index.values.tolist()].value_counts().to_dict()\n",
    "        print(feat_likelihood)\n",
    "        for feat_val, count in feat_likelihood.items():\n",
    "            likelihoods[feature][feat_val + '_' + outcome]= count/outcome_count"
   ]
  },
  {
   "cell_type": "code",
   "execution_count": 33,
   "metadata": {},
   "outputs": [
    {
     "name": "stdout",
     "output_type": "stream",
     "text": [
      "{'Outlook': {'Overcast_No': 0, 'Overcast_Yes': 0.4444444444444444, 'Rainy_No': 0.4, 'Rainy_Yes': 0.3333333333333333, 'Sunny_No': 0.6, 'Sunny_Yes': 0.2222222222222222}, 'Temperature': {'Cool_No': 0.2, 'Cool_Yes': 0.3333333333333333, 'Hot_No': 0.4, 'Hot_Yes': 0.2222222222222222, 'Mild_No': 0.4, 'Mild_Yes': 0.4444444444444444}, 'Humidity': {'High_No': 0.8, 'High_Yes': 0.3333333333333333, 'Normal_No': 0.2, 'Normal_Yes': 0.6666666666666666}, 'Windy': {'f_No': 0.4, 'f_Yes': 0.6666666666666666, 't_No': 0.6, 't_Yes': 0.3333333333333333}}\n"
     ]
    }
   ],
   "source": [
    "print(likelihoods)"
   ]
  },
  {
   "cell_type": "code",
   "execution_count": 34,
   "metadata": {},
   "outputs": [
    {
     "name": "stdout",
     "output_type": "stream",
     "text": [
      "{'Sunny': 5, 'Rainy': 5, 'Overcast': 4}\n",
      "{'Mild': 6, 'Cool': 4, 'Hot': 4}\n",
      "{'High': 7, 'Normal': 7}\n",
      "{'f': 8, 't': 6}\n"
     ]
    }
   ],
   "source": [
    "\n",
    "for feature in features:\n",
    "    feat_vals= x_train[feature].value_counts().to_dict()\n",
    "    print(feat_vals)\n",
    "    for feat_val, count in feat_vals.items():\n",
    "        pred_priors[feature][feat_val]= count/train_size"
   ]
  },
  {
   "cell_type": "code",
   "execution_count": 36,
   "metadata": {},
   "outputs": [
    {
     "name": "stdout",
     "output_type": "stream",
     "text": [
      "{'Outlook': {'Overcast': 0.2857142857142857, 'Rainy': 0.35714285714285715, 'Sunny': 0.35714285714285715}, 'Temperature': {'Cool': 0.2857142857142857, 'Hot': 0.2857142857142857, 'Mild': 0.42857142857142855}, 'Humidity': {'High': 0.5, 'Normal': 0.5}, 'Windy': {'f': 0.5714285714285714, 't': 0.42857142857142855}}\n"
     ]
    }
   ],
   "source": [
    "print(pred_priors)"
   ]
  },
  {
   "cell_type": "code",
   "execution_count": 40,
   "metadata": {},
   "outputs": [
    {
     "name": "stdout",
     "output_type": "stream",
     "text": [
      "{'No': 0.3136, 'Yes': 0.43017832647462273}\n",
      "['Yes']\n"
     ]
    }
   ],
   "source": [
    "# Given User Input and Predict Correct Output\n",
    "\n",
    "results = []\n",
    "qu = np.array([['Sunny','Mild','Normal','t']])\n",
    "qu= np.array(qu)\n",
    "\n",
    "m=0\n",
    "p=0\n",
    "\n",
    "for query in qu:\n",
    "    probs_outcome={}\n",
    "    for outcome in np.unique(y_train):\n",
    "        prior = class_priors[outcome]\n",
    "        likelihood =1\n",
    "        evidence =1\n",
    "        \n",
    "        \n",
    "        for feat, feat_val in zip(features, query):\n",
    "            likelihood*=likelihoods[feat][feat_val + '_'+ outcome]\n",
    "            evidence *= pred_priors[feat][feat_val]\n",
    "            \n",
    "        posterior = (likelihood * prior+ m*p) / (evidence+m)\n",
    "        probs_outcome[outcome]= posterior\n",
    "    print(probs_outcome)\n",
    "    result= max(probs_outcome, key = lambda X: probs_outcome[X])\n",
    "    results.append(result)\n",
    "    \n",
    "print(results)"
   ]
  },
  {
   "cell_type": "code",
   "execution_count": null,
   "metadata": {},
   "outputs": [],
   "source": []
  }
 ],
 "metadata": {
  "kernelspec": {
   "display_name": "Python 3 (ipykernel)",
   "language": "python",
   "name": "python3"
  },
  "language_info": {
   "codemirror_mode": {
    "name": "ipython",
    "version": 3
   },
   "file_extension": ".py",
   "mimetype": "text/x-python",
   "name": "python",
   "nbconvert_exporter": "python",
   "pygments_lexer": "ipython3",
   "version": "3.9.7"
  }
 },
 "nbformat": 4,
 "nbformat_minor": 4
}
